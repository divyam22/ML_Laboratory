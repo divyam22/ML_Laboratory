{
  "nbformat": 4,
  "nbformat_minor": 0,
  "metadata": {
    "colab": {
      "name": "NaiveBayes(SUV_Predection).ipynb",
      "provenance": []
    },
    "kernelspec": {
      "name": "python3",
      "display_name": "Python 3"
    },
    "language_info": {
      "name": "python"
    }
  },
  "cells": [
    {
      "cell_type": "code",
      "metadata": {
        "colab": {
          "base_uri": "https://localhost:8080/"
        },
        "id": "9xTcgr4tfj1A",
        "outputId": "252f5d69-7fce-4aef-a1de-e4496490a695"
      },
      "source": [
        "import numpy as nm  \n",
        "import matplotlib.pyplot as mtp  \n",
        "import pandas as pd\n",
        "\n",
        "data_set = pd.read_csv('/content/drive/MyDrive/SUV_Purchase.csv') \n",
        "print(data_set.head(2))\n",
        "x = data_set.iloc[:, [2,3]].values  \n",
        "y = data_set.iloc[:, 4].values  \n",
        "  \n",
        "from sklearn.model_selection import train_test_split  \n",
        "x_train, x_test, y_train, y_test = train_test_split(x, y, test_size = 0.25, random_state = 0)  \n",
        " \n",
        "from sklearn.preprocessing import StandardScaler  \n",
        "sc = StandardScaler()  \n",
        "x_train = sc.fit_transform(x_train)  \n",
        "x_test = sc.transform(x_test)"
      ],
      "execution_count": 11,
      "outputs": [
        {
          "output_type": "stream",
          "text": [
            "    User ID Gender  Age  EstimatedSalary  Purchased\n",
            "0  15624510   Male   19            19000          0\n",
            "1  15810944   Male   35            20000          0\n"
          ],
          "name": "stdout"
        }
      ]
    },
    {
      "cell_type": "code",
      "metadata": {
        "colab": {
          "base_uri": "https://localhost:8080/"
        },
        "id": "SXTmU9XiidEF",
        "outputId": "fa752767-495e-438c-f38a-3eef0aff57c0"
      },
      "source": [
        "from sklearn.naive_bayes import GaussianNB  \n",
        "classifier = GaussianNB()  \n",
        "classifier.fit(x_train, y_train)"
      ],
      "execution_count": 13,
      "outputs": [
        {
          "output_type": "execute_result",
          "data": {
            "text/plain": [
              "GaussianNB(priors=None, var_smoothing=1e-09)"
            ]
          },
          "metadata": {
            "tags": []
          },
          "execution_count": 13
        }
      ]
    },
    {
      "cell_type": "code",
      "metadata": {
        "id": "Glc1EWS_ig0u"
      },
      "source": [
        "y_pred = classifier.predict(x_test)"
      ],
      "execution_count": 15,
      "outputs": []
    },
    {
      "cell_type": "code",
      "metadata": {
        "colab": {
          "base_uri": "https://localhost:8080/"
        },
        "id": "Kr0_j1QNi4v8",
        "outputId": "3dc8419a-c003-4799-b08d-1a81ea9befd2"
      },
      "source": [
        "from sklearn.metrics import confusion_matrix  \n",
        "cm = confusion_matrix(y_test, y_pred)  \n",
        "cm"
      ],
      "execution_count": 17,
      "outputs": [
        {
          "output_type": "execute_result",
          "data": {
            "text/plain": [
              "array([[65,  3],\n",
              "       [ 7, 25]])"
            ]
          },
          "metadata": {
            "tags": []
          },
          "execution_count": 17
        }
      ]
    },
    {
      "cell_type": "code",
      "metadata": {
        "id": "ZzCd6Jk7i_zJ"
      },
      "source": [
        "from sklearn.metrics import accuracy_score"
      ],
      "execution_count": 19,
      "outputs": []
    },
    {
      "cell_type": "code",
      "metadata": {
        "colab": {
          "base_uri": "https://localhost:8080/"
        },
        "id": "XLC2wDEVjBTY",
        "outputId": "b53c2099-0959-45db-bbdf-ecae54830630"
      },
      "source": [
        "m= accuracy_score(y_test,y_pred)\n",
        "m"
      ],
      "execution_count": 21,
      "outputs": [
        {
          "output_type": "execute_result",
          "data": {
            "text/plain": [
              "0.9"
            ]
          },
          "metadata": {
            "tags": []
          },
          "execution_count": 21
        }
      ]
    }
  ]
}